{
 "cells": [
  {
   "cell_type": "markdown",
   "id": "3c773fb3-9f4d-4ab4-983e-9b0f4f141189",
   "metadata": {},
   "source": [
    "# Building Linear Regression Model"
   ]
  },
  {
   "cell_type": "markdown",
   "id": "47b15cd3-1b9c-4af2-a80a-90397726c0c8",
   "metadata": {},
   "source": [
    "## Learning Objectives\n",
    "\n",
    "After learning this section, you'll know how to do the following:\n",
    "- Convert from mathematical notations to Python code using NumPy library\n",
    "- Build a Linear Regression model\n",
    "- Evaluate a Linear Regression model"
   ]
  },
  {
   "cell_type": "markdown",
   "id": "6f876c3e-9d15-443c-b390-d577e9bd48e6",
   "metadata": {},
   "source": [
    "## Import Libraries\n",
    "\n",
    "We begin with the following code to import the required libraries:"
   ]
  },
  {
   "cell_type": "code",
   "execution_count": 1,
   "id": "43c2c7e9-2e21-40cb-84ab-575244d910bc",
   "metadata": {},
   "outputs": [],
   "source": [
    "%matplotlib inline\n",
    "\n",
    "import matplotlib.pyplot as plt\n",
    "import numpy as np"
   ]
  },
  {
   "cell_type": "markdown",
   "id": "b902da59-30a3-41e6-84e5-51cce62b2a2a",
   "metadata": {},
   "source": [
    "## Randomly Generate the Data"
   ]
  },
  {
   "cell_type": "markdown",
   "id": "304cf9f1-7f52-43aa-9a3c-76ec1eb64e12",
   "metadata": {},
   "source": [
    "As usual, let's start with 2-dimensional data first. We will randomly generate the data with a dependent variable $y$ and only one independent variable $x$. The data includes 100 data points scattered about a line with a slope of 5 and an intercept of 7:"
   ]
  },
  {
   "cell_type": "code",
   "execution_count": 2,
   "id": "40a3a117-cfde-49fb-9fd7-27568c1468b0",
   "metadata": {},
   "outputs": [
    {
     "name": "stdout",
     "output_type": "stream",
     "text": [
      "Shape of x: (100, 1)\n",
      "The first 5 rows of x: [[0.22733602]\n",
      " [0.31675834]\n",
      " [0.79736546]\n",
      " [0.67625467]\n",
      " [0.39110955]]\n",
      "\n",
      "Shape of y: (100, 1)\n",
      "The first 5 rows of y: [[ 8.30530896]\n",
      " [ 8.82393576]\n",
      " [11.76683514]\n",
      " [10.58504095]\n",
      " [ 9.50759871]]\n"
     ]
    }
   ],
   "source": [
    "num_data_points = 100\n",
    "\n",
    "# get a new instance of random numbers generator\n",
    "rng = np.random.default_rng(seed=12345)\n",
    "\n",
    "# generate x\n",
    "x = rng.random(size=(num_data_points, 1))\n",
    "\n",
    "# generate y with the defined slope and intercept\n",
    "slope = 5\n",
    "intercept = 7\n",
    "\n",
    "y = (slope * x + intercept) + rng.random(size=(num_data_points, 1))\n",
    "\n",
    "print(\"Shape of x:\", x.shape)\n",
    "print(\"The first 5 rows of x:\", x[:5])\n",
    "print()\n",
    "print(\"Shape of y:\", y.shape)\n",
    "print(\"The first 5 rows of y:\", y[:5])"
   ]
  },
  {
   "cell_type": "markdown",
   "id": "28ffa6ff-fdc5-471b-bc6b-c72cce76d9ff",
   "metadata": {},
   "source": [
    "Let's visualize $\\pmb{x}$ and $\\pmb{y}$ to see how it looks:"
   ]
  },
  {
   "cell_type": "code",
   "execution_count": 3,
   "id": "7cd7f581-abba-4184-aaee-635369a2e22c",
   "metadata": {},
   "outputs": [
    {
     "data": {
      "image/png": "[encoded data removed]",
      "text/plain": [
       "<Figure size 432x288 with 1 Axes>"
      ]
     },
     "metadata": {
      "needs_background": "light"
     },
     "output_type": "display_data"
    }
   ],
   "source": [
    "plt.scatter(x, y);"
   ]
  },
  {
   "cell_type": "markdown",
   "id": "9cc14b2e-9575-4d4a-92bf-e6c0948881be",
   "metadata": {},
   "source": [
    "## Build Linear Regression Model"
   ]
  },
  {
   "cell_type": "markdown",
   "id": "b507d75e-d5a9-49a2-956d-49599e1f28f0",
   "metadata": {
    "tags": []
   },
   "source": [
    "Let's review the Linear Regression model in matrix notation.\n",
    "\n",
    "$$\n",
    "\\begin{align}\n",
    "  \\pmb{\\hat{y}} &= \\pmb{X}\\pmb{w} \\\\\n",
    "  \\begin{bmatrix}\n",
    "    \\hat{y}^{(1)} \\\\\n",
    "    \\hat{y}^{(2)} \\\\\n",
    "    \\vdots \\\\\n",
    "    \\hat{y}^{(m)}\n",
    "  \\end{bmatrix} &=\n",
    "    \\begin{bmatrix}\n",
    "      1 & x^{(1)}_1 & x^{(1)}_2 & \\cdots & x^{(1)}_n \\\\  \n",
    "      1 & x^{(2)}_1 & x^{(2)}_2 & \\cdots & x^{(1)}_n \\\\\n",
    "      \\vdots \\\\\n",
    "      1 & x^{(m)}_1 & x^{(m)}_2 & \\cdots & x^{(m)}_n\n",
    "    \\end{bmatrix} \\begin{bmatrix}\n",
    "      w_0 \\\\\n",
    "      w_1 \\\\\n",
    "      \\vdots \\\\\n",
    "      w_n\n",
    "    \\end{bmatrix}\n",
    "\\end{align}\n",
    "$$\n",
    "\n",
    "The goal of Linear Regression is to find a best fitting line to the observed data by picking the optimal $\\pmb{w}$ parameters. These parameters can be found using the normal equation as follows:\n",
    "\n",
    "\n",
    "$$\\pmb{w} = (\\pmb{X}^\\top \\pmb{X})^{-1} \\pmb{X}^\\top \\pmb{y} $$\n"
   ]
  },
  {
   "cell_type": "markdown",
   "id": "6ae3f2ac-3611-4eb6-bd31-e6ec34a6c48d",
   "metadata": {},
   "source": [
    "First, we need to form the $\\pmb{X}$ matrix by adding a bias $x_0 = 1$ to each row of the column vector $\\pmb{x}$. This can be done using the following function."
   ]
  },
  {
   "cell_type": "code",
   "execution_count": 4,
   "id": "3a736bcb-dec9-436f-8f47-1336ea83770e",
   "metadata": {},
   "outputs": [
    {
     "name": "stdout",
     "output_type": "stream",
     "text": [
      "The first 5 rows of X: [[1.         0.22733602]\n",
      " [1.         0.31675834]\n",
      " [1.         0.79736546]\n",
      " [1.         0.67625467]\n",
      " [1.         0.39110955]]\n"
     ]
    }
   ],
   "source": [
    "def add_bias(x):\n",
    "    return np.hstack([np.ones((x.shape[0], 1)), x])\n",
    "\n",
    "\n",
    "X = add_bias(x)\n",
    "print(\"The first 5 rows of X:\", X[:5])"
   ]
  },
  {
   "cell_type": "markdown",
   "id": "6ae77d0f-b8f8-46d2-99a9-46141af9dd63",
   "metadata": {},
   "source": [
    "Then, we find the optimal model parameters $\\pmb{w}$ using the normal equation. This can be implement using NumPy as follows:"
   ]
  },
  {
   "cell_type": "code",
   "execution_count": 5,
   "id": "54357910-b6e3-474c-868c-31850e107b51",
   "metadata": {},
   "outputs": [
    {
     "name": "stdout",
     "output_type": "stream",
     "text": [
      "w =  [[7.40740442]\n",
      " [5.21243721]]\n"
     ]
    }
   ],
   "source": [
    "w = np.linalg.pinv(X.T.dot(X)).dot(X.T).dot(y)\n",
    "print(\"w = \", w)"
   ]
  },
  {
   "cell_type": "markdown",
   "id": "fde5bd75-4d83-4186-9b01-bb9eef8441c0",
   "metadata": {},
   "source": [
    "Finally, we can estimate $\\hat{y}$ using the computed $\\pmb{w}$ values."
   ]
  },
  {
   "cell_type": "code",
   "execution_count": 6,
   "id": "f10b350a-7207-4e7e-8466-190d6cba8ddb",
   "metadata": {},
   "outputs": [
    {
     "name": "stdout",
     "output_type": "stream",
     "text": [
      "The first 5 rows of y_hat: [[ 8.59237916]\n",
      " [ 9.05848737]\n",
      " [11.5636218 ]\n",
      " [10.93233943]\n",
      " [ 9.44603839]]\n"
     ]
    }
   ],
   "source": [
    "y_hat = X.dot(w)\n",
    "print(\"The first 5 rows of y_hat:\", y_hat[:5])"
   ]
  },
  {
   "cell_type": "markdown",
   "id": "688eec72-0247-4115-970e-3e9b68567661",
   "metadata": {},
   "source": [
    "Let's visualize the observed data point, best fitting line and its residual errors."
   ]
  },
  {
   "cell_type": "code",
   "execution_count": 7,
   "id": "d27c57a3-d5c6-4111-9812-00d428005b98",
   "metadata": {},
   "outputs": [
    {
     "data": {
      "image/png": "[encoded data removed]",
      "text/plain": [
       "<Figure size 432x288 with 1 Axes>"
      ]
     },
     "metadata": {
      "needs_background": "light"
     },
     "output_type": "display_data"
    }
   ],
   "source": [
    "plt.scatter(x, y, alpha=0.7)\n",
    "plt.plot(x, y_hat, color=\"green\", label=\"Best fitting line\")\n",
    "\n",
    "residuals = y - y_hat\n",
    "plt.bar(x[:, 0], residuals[:, 0], width=0.01, label=\"Residual errors\")\n",
    "\n",
    "plt.legend();"
   ]
  },
  {
   "cell_type": "markdown",
   "id": "d905c005-ee9d-4817-8313-3059fc69c493",
   "metadata": {},
   "source": [
    "## Evaluate Linear Regression Model"
   ]
  },
  {
   "cell_type": "markdown",
   "id": "82c08393-1b30-477e-819b-a0365b294a33",
   "metadata": {},
   "source": [
    "Now, it's time to evaluate our Linear Regression model performance. For regression problems, three common evaluation metrics are used.\n",
    "\n",
    "1. **Mean Absolute Error** (MAE) is the mean of the absolute value of the residual errors.\n",
    "\n",
    "$$\\frac 1n\\sum_{i=1}^n|y_i-\\hat{y}_i|$$\n",
    "\n",
    "2. **Mean Squared Error** (MSE) is the mean of the squared residual errors.\n",
    "\n",
    "$$\\frac 1n\\sum_{i=1}^n(y_i-\\hat{y}_i)^2$$\n",
    "\n",
    "3. **Root Mean Squared Error** (RMSE) is the square root of the mean of the squared residual errors.\n",
    "\n",
    "$$\\sqrt{\\frac 1n\\sum_{i=1}^n(y_i-\\hat{y}_i)^2}$$\n",
    "\n",
    "The lower the residuals, the lower values of MAE, MSE, and RMSE. Hence, lower values of these metrics indicate better fit of data.\n",
    "\n",
    "These evaluation metrics can be implement as follows:"
   ]
  },
  {
   "cell_type": "code",
   "execution_count": 8,
   "id": "10daaab2-e7a1-499e-80ff-6acc97e45fb7",
   "metadata": {},
   "outputs": [],
   "source": [
    "def mean_absolute_error(y_true, y_pred):\n",
    "    return np.mean(np.abs(y_true - y_pred))\n",
    "\n",
    "\n",
    "def mean_squared_error(y_true, y_pred):\n",
    "    return np.mean(np.square(y_true - y_pred))\n",
    "\n",
    "\n",
    "def root_mean_squared_error(y_true, y_pred):\n",
    "    return np.sqrt(np.mean(np.square(y_true - y_pred)))"
   ]
  },
  {
   "cell_type": "markdown",
   "id": "10f06b39-e4fe-410f-9174-079b08df10d2",
   "metadata": {},
   "source": [
    "Let's define a function `evaluate` to evaluate our model performance using the above metrics."
   ]
  },
  {
   "cell_type": "code",
   "execution_count": 9,
   "id": "8cd221ee-b55a-4fa9-9974-99ac048a4ea7",
   "metadata": {},
   "outputs": [
    {
     "name": "stdout",
     "output_type": "stream",
     "text": [
      "MAE: 0.25538144017166864\n",
      "MSE: 0.08714506146929557\n",
      "RMSE: 0.2952034238780024\n"
     ]
    }
   ],
   "source": [
    "def evaluate(y, y_hat):\n",
    "    mae = mean_absolute_error(y, y_hat)\n",
    "    mse = mean_squared_error(y, y_hat)\n",
    "    rmse = root_mean_squared_error(y, y_hat)\n",
    "\n",
    "    print(\"MAE:\", mae)\n",
    "    print(\"MSE:\", mse)\n",
    "    print(\"RMSE:\", rmse)\n",
    "\n",
    "\n",
    "evaluate(y, y_hat)"
   ]
  },
  {
   "cell_type": "markdown",
   "id": "b2931a95-a195-475e-be1a-2fc91f6f81a2",
   "metadata": {},
   "source": [
    "## Linear Regression Class"
   ]
  },
  {
   "cell_type": "markdown",
   "id": "6bf33e51-b5c8-4d96-b2ec-64878d8ef69e",
   "metadata": {},
   "source": [
    "It will be better if we gather the above code and functions into a `LinearRegression` class, so we can reuse it later. Its implementation is as follows:"
   ]
  },
  {
   "cell_type": "code",
   "execution_count": 10,
   "id": "83506f56-d66e-4e4c-92a8-b4e3fedb2a5c",
   "metadata": {},
   "outputs": [],
   "source": [
    "def mean_absolute_error(y_true, y_pred):\n",
    "    return np.mean(np.abs(y_true - y_pred))\n",
    "\n",
    "\n",
    "def mean_squared_error(y_true, y_pred):\n",
    "    return np.mean(np.square(y_true - y_pred))\n",
    "\n",
    "\n",
    "def root_mean_squared_error(y_true, y_pred):\n",
    "    return np.sqrt(np.mean(np.square(y_true - y_pred)))\n",
    "\n",
    "\n",
    "class LinearRegression:\n",
    "    def __init__(self):\n",
    "        self.w = None\n",
    "\n",
    "    def fit(self, x, y):\n",
    "        X = self._add_bias(x)\n",
    "        self.w = np.linalg.inv(X.T.dot(X)).dot(X.T).dot(y)\n",
    "\n",
    "    def predict(self, x):\n",
    "        X = self._add_bias(x)\n",
    "        return X.dot(self.w)\n",
    "\n",
    "    def evaluate(self, x, y):\n",
    "        y_pred = self.predict(x)\n",
    "\n",
    "        mae = mean_absolute_error(y, y_pred)\n",
    "        mse = mean_squared_error(y, y_pred)\n",
    "        rmse = root_mean_squared_error(y, y_pred)\n",
    "\n",
    "        print(\"MAE:\", mae)\n",
    "        print(\"MSE:\", mse)\n",
    "        print(\"RMSE:\", rmse)\n",
    "\n",
    "    def _add_bias(self, x):\n",
    "        return np.hstack([np.ones((x.shape[0], 1)), x])"
   ]
  },
  {
   "cell_type": "markdown",
   "id": "564da54c-f7ff-4a28-a192-f3982a68f0f8",
   "metadata": {},
   "source": [
    "Let's use the new `LinearRegression` class to fit the generated data again. "
   ]
  },
  {
   "cell_type": "code",
   "execution_count": 11,
   "id": "d27f0c51-3dce-4a46-859f-ee57b553f3d2",
   "metadata": {},
   "outputs": [
    {
     "name": "stdout",
     "output_type": "stream",
     "text": [
      "Model parameters: [[7.40740442]\n",
      " [5.21243721]]\n",
      "Evaluation results:\n",
      "MAE: 0.25538144017166836\n",
      "MSE: 0.08714506146929551\n",
      "RMSE: 0.2952034238780023\n"
     ]
    }
   ],
   "source": [
    "model = LinearRegression()\n",
    "model.fit(x, y)\n",
    "\n",
    "print(\"Model parameters:\", model.w)\n",
    "print(\"Evaluation results:\")\n",
    "model.evaluate(x, y)"
   ]
  },
  {
   "cell_type": "markdown",
   "id": "1861b574-2498-4a0f-8dfa-9a9bfdbece98",
   "metadata": {},
   "source": [
    "That's it! That's how you can implement Linear Regression model in Python using NumPy library. Now you have a `LinearRegression` class with a nice and easy-to-use API that can be applied in your own projects. Let's move to the next section where we use these implementation on real-world data. It's gonna be fun!"
   ]
  },
  {
   "cell_type": "markdown",
   "id": "f5b9fce1-72da-4021-b4b5-ac20df0882ce",
   "metadata": {},
   "source": [
    "## Challenges\n",
    "\n",
    "Why don't you challenge yourself a little bit? Here are some ideas:\n",
    "\n",
    "- Generate 3-dimensional data with a dependent variable $y$ and two independent variable $x_1$, and $x_2$\n",
    "- Use the `LinearRegression` class to create a model and fit it with the generated 3D data\n",
    "- Visualize the fitting plane\n",
    "- Why not add more independent variables, for example 1000 variables? Let's try to fit the model with a high-dimensional data and observe any changes in running time, evaluation results, etc."
   ]
  }
 ],
 "metadata": {
  "kernelspec": {
   "display_name": "Python 3 (ipykernel)",
   "language": "python",
   "name": "python3"
  },
  "language_info": {
   "codemirror_mode": {
    "name": "ipython",
    "version": 3
   },
   "file_extension": ".py",
   "mimetype": "text/x-python",
   "name": "python",
   "nbconvert_exporter": "python",
   "pygments_lexer": "ipython3",
   "version": "3.8.12"
  }
 },
 "nbformat": 4,
 "nbformat_minor": 5
}
