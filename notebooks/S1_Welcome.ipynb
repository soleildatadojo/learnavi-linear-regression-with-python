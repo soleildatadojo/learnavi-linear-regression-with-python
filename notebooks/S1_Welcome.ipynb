{
 "cells": [
  {
   "cell_type": "markdown",
   "id": "2cac7cdc-f5c6-4f5c-9293-3fe7b0597fff",
   "metadata": {},
   "source": [
    "## Welcome!"
   ]
  },
  {
   "cell_type": "markdown",
   "id": "29cc7dd9-7b95-4bd9-b43e-24d54fb0689f",
   "metadata": {
    "tags": []
   },
   "source": [
    "## Course Overview"
   ]
  },
  {
   "cell_type": "markdown",
   "id": "daa1d53e-54c4-44fc-8f05-a62b5ec0c59f",
   "metadata": {},
   "source": [
    "Hi everyone! Welcome to this course on Linear Regression with Python."
   ]
  },
  {
   "cell_type": "markdown",
   "id": "4b7ae027-b7f6-4e47-95b8-abcb39d77cfe",
   "metadata": {},
   "source": [
    "We have built this course to cover the concepts behind Linear Regression at an introductory level. In this course, you will gain practical experience building your own Linear Regression model using Python and NumPy. In addition, you'll learn about some of the best practices in exploratory data analysis and machine learning through coding exercises.\n",
    "\n",
    "We also have included a set of Jupyter Notebooks and a real-world dataset, so that you'll learn how to quickly and powerfully apply these skills and techniques to new problems or your own projects."
   ]
  },
  {
   "cell_type": "markdown",
   "id": "bacdce71-4c80-4c8c-bdc3-ee62dbf3957b",
   "metadata": {},
   "source": [
    "## Notation"
   ]
  },
  {
   "cell_type": "markdown",
   "id": "fe38de3c-0ecf-479f-a305-96b715a524a1",
   "metadata": {},
   "source": [
    "The following table provides a list of notations used throughout this course. If you are unfamiliar with any of the corresponding mathematical concepts, we highly recommend that you should consult another resource focused exclusively on teaching linear algebra.\n",
    "\n",
    "| Symbol | Description |\n",
    "|---|---|\n",
    "| $a$             | A scalar (integer or real) |\n",
    "| $\\pmb{a}$       | A column vector |\n",
    "| $\\pmb{A}$       | A matrix |\n",
    "| $\\pmb{a}_i$           | Element $i$ of vector $\\pmb{a}$ with starting at 0 |\n",
    "| $\\pmb{A}_{i,j}$ | Element $i, j$ of matrix $\\pmb{A}$ |\n",
    "| $\\pmb{A}^\\top$  | Transpose of matrix $\\pmb{A}$ |\n",
    "| $\\pmb{A}^{-1}$  | Inverse of matrix $\\pmb{A}$ |\n",
    "| $\\lVert \\pmb{x} \\lVert$ | $L^2$ norm of a column vector $\\pmb{x}$ |\n",
    "| $\\pmb{x}^{(i)}$ | The $i$-th sample from a dataset |\n"
   ]
  },
  {
   "cell_type": "markdown",
   "id": "9a4e56f4-df0f-4c50-83b5-0f458e8730a0",
   "metadata": {},
   "source": [
    "## Get the Jupyter Notebooks\n",
    "\n",
    "All the Jupyter notebooks used in this course are available from [our repository on GitHub](https://github.com/soleildatadojo/learnavi-linear-regression-with-python). You can clone the repository by entering the following command in your terminal:\n",
    "\n",
    "```sh\n",
    "git clone https://github.com/soleildatadojo/learnavi-linear-regression-with-python.git\n",
    "```"
   ]
  },
  {
   "cell_type": "markdown",
   "id": "738f3662-afeb-448a-8892-3eed864e4c21",
   "metadata": {},
   "source": [
    "You can follow along the course on your local computer using notebooks located inside the `notebooks` directory in the repository. You'll need to install NumPy, Matplotlib and pandas to run these notebooks. The latest versions of those libraries should work fine."
   ]
  }
 ],
 "metadata": {
  "kernelspec": {
   "display_name": "Python 3 (ipykernel)",
   "language": "python",
   "name": "python3"
  },
  "language_info": {
   "codemirror_mode": {
    "name": "ipython",
    "version": 3
   },
   "file_extension": ".py",
   "mimetype": "text/x-python",
   "name": "python",
   "nbconvert_exporter": "python",
   "pygments_lexer": "ipython3",
   "version": "3.8.12"
  }
 },
 "nbformat": 4,
 "nbformat_minor": 5
}
