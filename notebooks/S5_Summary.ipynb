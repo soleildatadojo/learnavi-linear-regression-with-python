{
 "cells": [
  {
   "cell_type": "markdown",
   "id": "28d6cf72-3a08-46ea-b915-2d85a5db20ca",
   "metadata": {},
   "source": [
    "# Summary\n",
    "\n",
    "Congratulation on finishing this course! You have learned a lot about Linear Regression, how to use the NumPy library to implement your own model, how to explore and analyze a new dataset, etc. We hope that these knowledge and skills can help you in your own projects.\n",
    "\n",
    "If you have any feedback or suggestion to improve the course, please feel free to raise an issue in our GitHub repository."
   ]
  }
 ],
 "metadata": {
  "kernelspec": {
   "display_name": "Python 3 (ipykernel)",
   "language": "python",
   "name": "python3"
  },
  "language_info": {
   "codemirror_mode": {
    "name": "ipython",
    "version": 3
   },
   "file_extension": ".py",
   "mimetype": "text/x-python",
   "name": "python",
   "nbconvert_exporter": "python",
   "pygments_lexer": "ipython3",
   "version": "3.8.12"
  }
 },
 "nbformat": 4,
 "nbformat_minor": 5
}
