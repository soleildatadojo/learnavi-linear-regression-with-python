{
 "cells": [
  {
   "cell_type": "markdown",
   "id": "67d1b908-a9ae-41c4-aa2c-fac3ef9b6157",
   "metadata": {},
   "source": [
    "# Linear Regression with Real-world Dataset"
   ]
  },
  {
   "cell_type": "markdown",
   "id": "d268f2c8-12fb-4dc8-ae92-e81cee56ea8f",
   "metadata": {
    "tags": []
   },
   "source": [
    "## Learning Objectives\n",
    "\n",
    "After learning this section, you'll know how to do the following:\n",
    "- Use pandas to examine a dataset (e.g., loading, transforming, analyzing, reshaping data)\n",
    "- Prepare data for training and testing a machine learning model\n",
    "- Experiment with different features in training a Linear Regression model\n",
    "- How to solve real-world problems."
   ]
  },
  {
   "cell_type": "markdown",
   "id": "b02ba305-a2e2-4db2-a450-95b902a8c5df",
   "metadata": {},
   "source": [
    "## Import Libraries\n",
    "\n",
    "We begin by running the following code to import the necessary libraries:"
   ]
  },
  {
   "cell_type": "code",
   "execution_count": 1,
   "id": "339f224a-c23f-4e23-a8be-749d86e7745c",
   "metadata": {},
   "outputs": [],
   "source": [
    "%matplotlib inline\n",
    "\n",
    "import matplotlib.pyplot as plt\n",
    "import numpy as np\n",
    "import pandas as pd"
   ]
  },
  {
   "cell_type": "markdown",
   "id": "463035b3-1a52-459f-91c4-53a8179f47f8",
   "metadata": {},
   "source": [
    "## About The Dataset\n",
    "\n",
    "In this section, we will work on a real-world dataset that contains information about used cars listed on www.cardekho.com. The dataset provides a great opportunity to learn a typical machine learning training and testing process. We will use our Linear Regression model implemented in the previous section to predict the selling price of those used cars.\n",
    "\n",
    "The columns and its meaning in the dataset are as follow:\n",
    "\n",
    "| Column | Description |\n",
    "|---|---|\n",
    "|name| Name of the car |\n",
    "|year| Year of the car when it was bought|\n",
    "|selling_price| Price at which the car is being sold|\n",
    "|km_driven| Number of Kilometres the car is driven|\n",
    "|fuel| Fuel type of the car (petrol/diesel/CNG/LPG/electric)|\n",
    "|seller_type| Tells if a Seller is Individual or a Dealer|\n",
    "|transmission| Gear transmission of the car (Automatic/Manual)|\n",
    "|owner| Number of previous owners of the car|"
   ]
  },
  {
   "cell_type": "markdown",
   "id": "3d9e08a0-1e3a-40b7-a3cc-44b97a482d2f",
   "metadata": {
    "tags": []
   },
   "source": [
    "## Exploratory Data Analysis\n",
    "\n",
    "The large and important part of most machine learning projects is getting to know and understand your data. In this section, we will conduct an Exploratory Data Analysis to help you get a feeling about the dataset."
   ]
  },
  {
   "cell_type": "markdown",
   "id": "c039560e-328d-49b7-8302-e7081448d7c2",
   "metadata": {},
   "source": [
    "### Load Dataset\n",
    "\n",
    "The dataset is saved in a .csv file. We will use pandas to load it into a pandas `DataFrame`."
   ]
  },
  {
   "cell_type": "code",
   "execution_count": 2,
   "id": "375a95f3-54bf-417b-9daa-412db74babc4",
   "metadata": {},
   "outputs": [],
   "source": [
    "dataset = pd.read_csv(filepath_or_buffer=\"../data/used_cars_price.csv\")"
   ]
  },
  {
   "cell_type": "markdown",
   "id": "b6fb18f2-095e-40bb-9073-ce80b3c4e987",
   "metadata": {},
   "source": [
    "We can show the dimensions of the `DataFrame` using the `shape` attribute."
   ]
  },
  {
   "cell_type": "code",
   "execution_count": 3,
   "id": "275fffe2-1a89-4e9e-bf63-f372b4f3285b",
   "metadata": {},
   "outputs": [
    {
     "name": "stdout",
     "output_type": "stream",
     "text": [
      "Number of rows: 4340\n",
      "Number of columns: 8\n"
     ]
    }
   ],
   "source": [
    "print(\"Number of rows:\", dataset.shape[0])\n",
    "print(\"Number of columns:\", dataset.shape[1])"
   ]
  },
  {
   "cell_type": "markdown",
   "id": "c48830e4-b2b3-49b5-ba41-0363adcc83c6",
   "metadata": {},
   "source": [
    "Let's see the top 5 rows of the dataset using the `head()` method."
   ]
  },
  {
   "cell_type": "code",
   "execution_count": 4,
   "id": "2a9edaf6-077e-429b-887d-fde50ca737c1",
   "metadata": {},
   "outputs": [
    {
     "data": {
      "text/html": [
       "<div>\n",
       "<style scoped>\n",
       "    .dataframe tbody tr th:only-of-type {\n",
       "        vertical-align: middle;\n",
       "    }\n",
       "\n",
       "    .dataframe tbody tr th {\n",
       "        vertical-align: top;\n",
       "    }\n",
       "\n",
       "    .dataframe thead th {\n",
       "        text-align: right;\n",
       "    }\n",
       "</style>\n",
       "<table border=\"1\" class=\"dataframe\">\n",
       "  <thead>\n",
       "    <tr style=\"text-align: right;\">\n",
       "      <th></th>\n",
       "      <th>name</th>\n",
       "      <th>year</th>\n",
       "      <th>selling_price</th>\n",
       "      <th>km_driven</th>\n",
       "      <th>fuel</th>\n",
       "      <th>seller_type</th>\n",
       "      <th>transmission</th>\n",
       "      <th>owner</th>\n",
       "    </tr>\n",
       "  </thead>\n",
       "  <tbody>\n",
       "    <tr>\n",
       "      <th>0</th>\n",
       "      <td>Maruti 800 AC</td>\n",
       "      <td>2007</td>\n",
       "      <td>60000</td>\n",
       "      <td>70000</td>\n",
       "      <td>Petrol</td>\n",
       "      <td>Individual</td>\n",
       "      <td>Manual</td>\n",
       "      <td>First Owner</td>\n",
       "    </tr>\n",
       "    <tr>\n",
       "      <th>1</th>\n",
       "      <td>Maruti Wagon R LXI Minor</td>\n",
       "      <td>2007</td>\n",
       "      <td>135000</td>\n",
       "      <td>50000</td>\n",
       "      <td>Petrol</td>\n",
       "      <td>Individual</td>\n",
       "      <td>Manual</td>\n",
       "      <td>First Owner</td>\n",
       "    </tr>\n",
       "    <tr>\n",
       "      <th>2</th>\n",
       "      <td>Hyundai Verna 1.6 SX</td>\n",
       "      <td>2012</td>\n",
       "      <td>600000</td>\n",
       "      <td>100000</td>\n",
       "      <td>Diesel</td>\n",
       "      <td>Individual</td>\n",
       "      <td>Manual</td>\n",
       "      <td>First Owner</td>\n",
       "    </tr>\n",
       "    <tr>\n",
       "      <th>3</th>\n",
       "      <td>Datsun RediGO T Option</td>\n",
       "      <td>2017</td>\n",
       "      <td>250000</td>\n",
       "      <td>46000</td>\n",
       "      <td>Petrol</td>\n",
       "      <td>Individual</td>\n",
       "      <td>Manual</td>\n",
       "      <td>First Owner</td>\n",
       "    </tr>\n",
       "    <tr>\n",
       "      <th>4</th>\n",
       "      <td>Honda Amaze VX i-DTEC</td>\n",
       "      <td>2014</td>\n",
       "      <td>450000</td>\n",
       "      <td>141000</td>\n",
       "      <td>Diesel</td>\n",
       "      <td>Individual</td>\n",
       "      <td>Manual</td>\n",
       "      <td>Second Owner</td>\n",
       "    </tr>\n",
       "  </tbody>\n",
       "</table>\n",
       "</div>"
      ],
      "text/plain": [
       "                       name  year  selling_price  km_driven    fuel  \\\n",
       "0             Maruti 800 AC  2007          60000      70000  Petrol   \n",
       "1  Maruti Wagon R LXI Minor  2007         135000      50000  Petrol   \n",
       "2      Hyundai Verna 1.6 SX  2012         600000     100000  Diesel   \n",
       "3    Datsun RediGO T Option  2017         250000      46000  Petrol   \n",
       "4     Honda Amaze VX i-DTEC  2014         450000     141000  Diesel   \n",
       "\n",
       "  seller_type transmission         owner  \n",
       "0  Individual       Manual   First Owner  \n",
       "1  Individual       Manual   First Owner  \n",
       "2  Individual       Manual   First Owner  \n",
       "3  Individual       Manual   First Owner  \n",
       "4  Individual       Manual  Second Owner  "
      ]
     },
     "execution_count": 4,
     "metadata": {},
     "output_type": "execute_result"
    }
   ],
   "source": [
    "dataset.head(5)"
   ]
  },
  {
   "cell_type": "markdown",
   "id": "b146317b-9c51-4ec6-912c-4b022e16f030",
   "metadata": {},
   "source": [
    "The `info()` method prints a concise summary of the dataset including the data type of each column, non-null values and memory usage."
   ]
  },
  {
   "cell_type": "code",
   "execution_count": 5,
   "id": "c6d217e3-604b-47fe-91c5-830ce1167c1e",
   "metadata": {
    "tags": []
   },
   "outputs": [
    {
     "name": "stdout",
     "output_type": "stream",
     "text": [
      "<class 'pandas.core.frame.DataFrame'>\n",
      "RangeIndex: 4340 entries, 0 to 4339\n",
      "Data columns (total 8 columns):\n",
      " #   Column         Non-Null Count  Dtype \n",
      "---  ------         --------------  ----- \n",
      " 0   name           4340 non-null   object\n",
      " 1   year           4340 non-null   int64 \n",
      " 2   selling_price  4340 non-null   int64 \n",
      " 3   km_driven      4340 non-null   int64 \n",
      " 4   fuel           4340 non-null   object\n",
      " 5   seller_type    4340 non-null   object\n",
      " 6   transmission   4340 non-null   object\n",
      " 7   owner          4340 non-null   object\n",
      "dtypes: int64(3), object(5)\n",
      "memory usage: 271.4+ KB\n"
     ]
    }
   ],
   "source": [
    "dataset.info()"
   ]
  },
  {
   "cell_type": "markdown",
   "id": "a8c89072-370f-421c-84a9-1f353a650275",
   "metadata": {},
   "source": [
    "### Analyze Data\n",
    "\n",
    "First, let's check if our dataset has any missing values."
   ]
  },
  {
   "cell_type": "code",
   "execution_count": 6,
   "id": "c9d38e88-d832-47cd-9282-dfcfbb31b9a2",
   "metadata": {},
   "outputs": [
    {
     "data": {
      "text/plain": [
       "name             0\n",
       "year             0\n",
       "selling_price    0\n",
       "km_driven        0\n",
       "fuel             0\n",
       "seller_type      0\n",
       "transmission     0\n",
       "owner            0\n",
       "dtype: int64"
      ]
     },
     "execution_count": 6,
     "metadata": {},
     "output_type": "execute_result"
    }
   ],
   "source": [
    "dataset.isna().sum()"
   ]
  },
  {
   "cell_type": "markdown",
   "id": "61270a2c-31b5-4601-bc8c-76144b40cf50",
   "metadata": {},
   "source": [
    "Luckily, we don't have any missing values in any columns.\n",
    "\n",
    "Next step, we will view the descriptive statistics of the dataset. We will use the `describe()` method to output the statistics about every column. The dataset has two types of data, numeric and object.\n",
    "\n",
    "First, we will check the numeric data in `year`, `selling_price`, and `km_driven` columns. The output will include the following information:\n",
    "- `count`: the number of rows in each column. Since there are no missing values in our dataset, it will be the same value for every column.\n",
    "- `mean` and `std`: mean and standard deviation of the values in each column\n",
    "- `min` and `max`: the lowest and highest values in each column\n",
    "- `25%`, `50%`, `75%`: the 25th, 50th, and 75th percentiles. The 50 percentile is the same as the median."
   ]
  },
  {
   "cell_type": "code",
   "execution_count": 7,
   "id": "eb23db75-e83a-43d1-a610-bed62b440581",
   "metadata": {},
   "outputs": [
    {
     "data": {
      "text/html": [
       "<div>\n",
       "<style scoped>\n",
       "    .dataframe tbody tr th:only-of-type {\n",
       "        vertical-align: middle;\n",
       "    }\n",
       "\n",
       "    .dataframe tbody tr th {\n",
       "        vertical-align: top;\n",
       "    }\n",
       "\n",
       "    .dataframe thead th {\n",
       "        text-align: right;\n",
       "    }\n",
       "</style>\n",
       "<table border=\"1\" class=\"dataframe\">\n",
       "  <thead>\n",
       "    <tr style=\"text-align: right;\">\n",
       "      <th></th>\n",
       "      <th>year</th>\n",
       "      <th>selling_price</th>\n",
       "      <th>km_driven</th>\n",
       "    </tr>\n",
       "  </thead>\n",
       "  <tbody>\n",
       "    <tr>\n",
       "      <th>count</th>\n",
       "      <td>4340.000000</td>\n",
       "      <td>4.340000e+03</td>\n",
       "      <td>4340.000000</td>\n",
       "    </tr>\n",
       "    <tr>\n",
       "      <th>mean</th>\n",
       "      <td>2013.090783</td>\n",
       "      <td>5.041273e+05</td>\n",
       "      <td>66215.777419</td>\n",
       "    </tr>\n",
       "    <tr>\n",
       "      <th>std</th>\n",
       "      <td>4.215344</td>\n",
       "      <td>5.785487e+05</td>\n",
       "      <td>46644.102194</td>\n",
       "    </tr>\n",
       "    <tr>\n",
       "      <th>min</th>\n",
       "      <td>1992.000000</td>\n",
       "      <td>2.000000e+04</td>\n",
       "      <td>1.000000</td>\n",
       "    </tr>\n",
       "    <tr>\n",
       "      <th>25%</th>\n",
       "      <td>2011.000000</td>\n",
       "      <td>2.087498e+05</td>\n",
       "      <td>35000.000000</td>\n",
       "    </tr>\n",
       "    <tr>\n",
       "      <th>50%</th>\n",
       "      <td>2014.000000</td>\n",
       "      <td>3.500000e+05</td>\n",
       "      <td>60000.000000</td>\n",
       "    </tr>\n",
       "    <tr>\n",
       "      <th>75%</th>\n",
       "      <td>2016.000000</td>\n",
       "      <td>6.000000e+05</td>\n",
       "      <td>90000.000000</td>\n",
       "    </tr>\n",
       "    <tr>\n",
       "      <th>max</th>\n",
       "      <td>2020.000000</td>\n",
       "      <td>8.900000e+06</td>\n",
       "      <td>806599.000000</td>\n",
       "    </tr>\n",
       "  </tbody>\n",
       "</table>\n",
       "</div>"
      ],
      "text/plain": [
       "              year  selling_price      km_driven\n",
       "count  4340.000000   4.340000e+03    4340.000000\n",
       "mean   2013.090783   5.041273e+05   66215.777419\n",
       "std       4.215344   5.785487e+05   46644.102194\n",
       "min    1992.000000   2.000000e+04       1.000000\n",
       "25%    2011.000000   2.087498e+05   35000.000000\n",
       "50%    2014.000000   3.500000e+05   60000.000000\n",
       "75%    2016.000000   6.000000e+05   90000.000000\n",
       "max    2020.000000   8.900000e+06  806599.000000"
      ]
     },
     "execution_count": 7,
     "metadata": {},
     "output_type": "execute_result"
    }
   ],
   "source": [
    "numeric_cols = [\"year\", \"selling_price\", \"km_driven\"]\n",
    "dataset[numeric_cols].describe()"
   ]
  },
  {
   "cell_type": "markdown",
   "id": "07a3936d-c97a-459f-8d6f-a2ccdcfe51c5",
   "metadata": {},
   "source": [
    "The maximum values in `selling_price` and `km_driven` columns are really high compared to the 25th, 50th, and 75th percentiles. For example, in `km_driven` column, given the 25th, 50th, 75th percentiles, you might expect the maximum value to be approximately 120000.0. However, the actual value is 806599.0. This indicate that we have anomalies in these columns. When you see anomalies, be more careful! It can potentially affect the performance of your model."
   ]
  },
  {
   "cell_type": "markdown",
   "id": "c0dcf840-b5ed-47e7-96fc-e0189360e1ee",
   "metadata": {},
   "source": [
    "Now, we will check the object data in the remaining columns. The output will include the following information:\n",
    "- `count`: the number of rows in each column\n",
    "- `unique`: the number of unique value in each column\n",
    "- `top`: the most common value\n",
    "- `freq`: the most common value's frequency"
   ]
  },
  {
   "cell_type": "code",
   "execution_count": 8,
   "id": "09205bc6-4073-4d20-abcb-b13bed157e6c",
   "metadata": {},
   "outputs": [
    {
     "data": {
      "text/html": [
       "<div>\n",
       "<style scoped>\n",
       "    .dataframe tbody tr th:only-of-type {\n",
       "        vertical-align: middle;\n",
       "    }\n",
       "\n",
       "    .dataframe tbody tr th {\n",
       "        vertical-align: top;\n",
       "    }\n",
       "\n",
       "    .dataframe thead th {\n",
       "        text-align: right;\n",
       "    }\n",
       "</style>\n",
       "<table border=\"1\" class=\"dataframe\">\n",
       "  <thead>\n",
       "    <tr style=\"text-align: right;\">\n",
       "      <th></th>\n",
       "      <th>name</th>\n",
       "      <th>fuel</th>\n",
       "      <th>seller_type</th>\n",
       "      <th>transmission</th>\n",
       "      <th>owner</th>\n",
       "    </tr>\n",
       "  </thead>\n",
       "  <tbody>\n",
       "    <tr>\n",
       "      <th>count</th>\n",
       "      <td>4340</td>\n",
       "      <td>4340</td>\n",
       "      <td>4340</td>\n",
       "      <td>4340</td>\n",
       "      <td>4340</td>\n",
       "    </tr>\n",
       "    <tr>\n",
       "      <th>unique</th>\n",
       "      <td>1491</td>\n",
       "      <td>5</td>\n",
       "      <td>3</td>\n",
       "      <td>2</td>\n",
       "      <td>5</td>\n",
       "    </tr>\n",
       "    <tr>\n",
       "      <th>top</th>\n",
       "      <td>Maruti Swift Dzire VDI</td>\n",
       "      <td>Diesel</td>\n",
       "      <td>Individual</td>\n",
       "      <td>Manual</td>\n",
       "      <td>First Owner</td>\n",
       "    </tr>\n",
       "    <tr>\n",
       "      <th>freq</th>\n",
       "      <td>69</td>\n",
       "      <td>2153</td>\n",
       "      <td>3244</td>\n",
       "      <td>3892</td>\n",
       "      <td>2832</td>\n",
       "    </tr>\n",
       "  </tbody>\n",
       "</table>\n",
       "</div>"
      ],
      "text/plain": [
       "                          name    fuel seller_type transmission        owner\n",
       "count                     4340    4340        4340         4340         4340\n",
       "unique                    1491       5           3            2            5\n",
       "top     Maruti Swift Dzire VDI  Diesel  Individual       Manual  First Owner\n",
       "freq                        69    2153        3244         3892         2832"
      ]
     },
     "execution_count": 8,
     "metadata": {},
     "output_type": "execute_result"
    }
   ],
   "source": [
    "str_cols = [\"name\", \"fuel\", \"seller_type\", \"transmission\", \"owner\"]\n",
    "dataset[str_cols].describe()"
   ]
  },
  {
   "cell_type": "markdown",
   "id": "e90130c4-cf98-4081-b021-71ea833a68e5",
   "metadata": {},
   "source": [
    "### Visualize Data\n",
    "\n",
    "Let's create some simple plots of our data to see how it looks."
   ]
  },
  {
   "cell_type": "code",
   "execution_count": 9,
   "id": "b880f40d-19a2-45c2-b472-b947423265e5",
   "metadata": {},
   "outputs": [
    {
     "data": {
      "image/png": "[encoded data removed]",
      "text/plain": [
       "<Figure size 864x576 with 4 Axes>"
      ]
     },
     "metadata": {
      "needs_background": "light"
     },
     "output_type": "display_data"
    }
   ],
   "source": [
    "dataset.hist(column=numeric_cols, figsize=(12, 8));"
   ]
  },
  {
   "cell_type": "code",
   "execution_count": 10,
   "id": "cf467773-0a8d-40f3-a1ae-265993479168",
   "metadata": {},
   "outputs": [
    {
     "data": {
      "image/png": "[encoded data removed]",
      "text/plain": [
       "<Figure size 720x576 with 2 Axes>"
      ]
     },
     "metadata": {
      "needs_background": "light"
     },
     "output_type": "display_data"
    }
   ],
   "source": [
    "fig, axis = plt.subplots(2, figsize=(10, 8))\n",
    "\n",
    "for i, col in enumerate([\"selling_price\", \"km_driven\"]):\n",
    "    dataset.boxplot(\n",
    "        column=col,\n",
    "        ax=axis[i],\n",
    "        vert=False,\n",
    "        showmeans=True,\n",
    "        flierprops=dict(markerfacecolor=\"r\", marker=\"o\"),\n",
    "    )\n",
    "    axis[i].set_xlabel(col)"
   ]
  },
  {
   "cell_type": "code",
   "execution_count": 11,
   "id": "bfc3e487-dcda-4123-9516-e91aaa9913e4",
   "metadata": {},
   "outputs": [
    {
     "data": {
      "image/png": "[encoded data removed]",
      "text/plain": [
       "<Figure size 1152x576 with 4 Axes>"
      ]
     },
     "metadata": {
      "needs_background": "light"
     },
     "output_type": "display_data"
    }
   ],
   "source": [
    "cols = [\"fuel\", \"seller_type\", \"transmission\", \"owner\"]\n",
    "\n",
    "fig, axis = plt.subplots(2, 2, figsize=(16, 8))\n",
    "\n",
    "for i, col in enumerate(cols):\n",
    "    ax = axis[i // 2, i % 2]\n",
    "    dataset[col].value_counts().plot.barh(ax=ax)\n",
    "    ax.set_title(col)\n",
    "\n",
    "fig.subplots_adjust(wspace=0.4, hspace=0.3)"
   ]
  },
  {
   "cell_type": "markdown",
   "id": "d4685ffb-a950-45ec-b316-35c35b1d3691",
   "metadata": {},
   "source": [
    "## Data Preprocessing\n",
    "\n",
    "We will need to prepare the data before starting training. This step include selecting features and splitting the data."
   ]
  },
  {
   "cell_type": "markdown",
   "id": "56e04d46-0f1d-4e4b-9da7-d1adc9cc861a",
   "metadata": {},
   "source": [
    "### Select Features"
   ]
  },
  {
   "cell_type": "markdown",
   "id": "4284e5e7-f22e-401c-b6eb-e7a186b8b998",
   "metadata": {},
   "source": [
    "Using the `year` column, we can compute the age of the used cars. This can be a better feature compared to the raw `year` data."
   ]
  },
  {
   "cell_type": "code",
   "execution_count": 12,
   "id": "838d1e32-caf1-4562-aaad-debde196fa5c",
   "metadata": {},
   "outputs": [
    {
     "data": {
      "text/html": [
       "<div>\n",
       "<style scoped>\n",
       "    .dataframe tbody tr th:only-of-type {\n",
       "        vertical-align: middle;\n",
       "    }\n",
       "\n",
       "    .dataframe tbody tr th {\n",
       "        vertical-align: top;\n",
       "    }\n",
       "\n",
       "    .dataframe thead th {\n",
       "        text-align: right;\n",
       "    }\n",
       "</style>\n",
       "<table border=\"1\" class=\"dataframe\">\n",
       "  <thead>\n",
       "    <tr style=\"text-align: right;\">\n",
       "      <th></th>\n",
       "      <th>name</th>\n",
       "      <th>selling_price</th>\n",
       "      <th>km_driven</th>\n",
       "      <th>fuel</th>\n",
       "      <th>seller_type</th>\n",
       "      <th>transmission</th>\n",
       "      <th>owner</th>\n",
       "      <th>age</th>\n",
       "    </tr>\n",
       "  </thead>\n",
       "  <tbody>\n",
       "    <tr>\n",
       "      <th>0</th>\n",
       "      <td>Maruti 800 AC</td>\n",
       "      <td>60000</td>\n",
       "      <td>70000</td>\n",
       "      <td>Petrol</td>\n",
       "      <td>Individual</td>\n",
       "      <td>Manual</td>\n",
       "      <td>First Owner</td>\n",
       "      <td>14</td>\n",
       "    </tr>\n",
       "    <tr>\n",
       "      <th>1</th>\n",
       "      <td>Maruti Wagon R LXI Minor</td>\n",
       "      <td>135000</td>\n",
       "      <td>50000</td>\n",
       "      <td>Petrol</td>\n",
       "      <td>Individual</td>\n",
       "      <td>Manual</td>\n",
       "      <td>First Owner</td>\n",
       "      <td>14</td>\n",
       "    </tr>\n",
       "    <tr>\n",
       "      <th>2</th>\n",
       "      <td>Hyundai Verna 1.6 SX</td>\n",
       "      <td>600000</td>\n",
       "      <td>100000</td>\n",
       "      <td>Diesel</td>\n",
       "      <td>Individual</td>\n",
       "      <td>Manual</td>\n",
       "      <td>First Owner</td>\n",
       "      <td>9</td>\n",
       "    </tr>\n",
       "    <tr>\n",
       "      <th>3</th>\n",
       "      <td>Datsun RediGO T Option</td>\n",
       "      <td>250000</td>\n",
       "      <td>46000</td>\n",
       "      <td>Petrol</td>\n",
       "      <td>Individual</td>\n",
       "      <td>Manual</td>\n",
       "      <td>First Owner</td>\n",
       "      <td>4</td>\n",
       "    </tr>\n",
       "    <tr>\n",
       "      <th>4</th>\n",
       "      <td>Honda Amaze VX i-DTEC</td>\n",
       "      <td>450000</td>\n",
       "      <td>141000</td>\n",
       "      <td>Diesel</td>\n",
       "      <td>Individual</td>\n",
       "      <td>Manual</td>\n",
       "      <td>Second Owner</td>\n",
       "      <td>7</td>\n",
       "    </tr>\n",
       "  </tbody>\n",
       "</table>\n",
       "</div>"
      ],
      "text/plain": [
       "                       name  selling_price  km_driven    fuel seller_type  \\\n",
       "0             Maruti 800 AC          60000      70000  Petrol  Individual   \n",
       "1  Maruti Wagon R LXI Minor         135000      50000  Petrol  Individual   \n",
       "2      Hyundai Verna 1.6 SX         600000     100000  Diesel  Individual   \n",
       "3    Datsun RediGO T Option         250000      46000  Petrol  Individual   \n",
       "4     Honda Amaze VX i-DTEC         450000     141000  Diesel  Individual   \n",
       "\n",
       "  transmission         owner  age  \n",
       "0       Manual   First Owner   14  \n",
       "1       Manual   First Owner   14  \n",
       "2       Manual   First Owner    9  \n",
       "3       Manual   First Owner    4  \n",
       "4       Manual  Second Owner    7  "
      ]
     },
     "execution_count": 12,
     "metadata": {},
     "output_type": "execute_result"
    }
   ],
   "source": [
    "dataset[\"age\"] = 2021 - dataset[\"year\"]\n",
    "dataset.drop(\"year\", axis=\"columns\", inplace=True)\n",
    "\n",
    "dataset.head()"
   ]
  },
  {
   "cell_type": "markdown",
   "id": "00c045c5-6cf3-4351-8bf0-dc2cd977c1b7",
   "metadata": {},
   "source": [
    "Next, we will extract the data into the dependent/target variable and independent/feature variables. We will use `km_driven` and `age` data as features since the other columns has text info that can't be use by a Linear Regression model."
   ]
  },
  {
   "cell_type": "code",
   "execution_count": 13,
   "id": "5753085d-87f5-454f-99ce-50bf4f46e20e",
   "metadata": {},
   "outputs": [
    {
     "name": "stdout",
     "output_type": "stream",
     "text": [
      "Shape of y: (4340,)\n",
      "Shape of x: (4340, 2)\n"
     ]
    }
   ],
   "source": [
    "y = dataset[\"selling_price\"].values\n",
    "print(\"Shape of y:\", y.shape)\n",
    "\n",
    "x = dataset[[\"km_driven\", \"age\"]].values\n",
    "print(\"Shape of x:\", x.shape)"
   ]
  },
  {
   "cell_type": "markdown",
   "id": "ad271101-bc8c-45a4-84e0-b26bfce4679f",
   "metadata": {},
   "source": [
    "We need to reshape `y` into a column vector with the shape of `(4340, 1)`."
   ]
  },
  {
   "cell_type": "code",
   "execution_count": 14,
   "id": "45e311f1-d01f-4791-a7bb-05d6ec0cc80b",
   "metadata": {},
   "outputs": [
    {
     "name": "stdout",
     "output_type": "stream",
     "text": [
      "Shape of y: (4340, 1)\n",
      "Shape of x: (4340, 2)\n"
     ]
    }
   ],
   "source": [
    "y = y.reshape(-1, 1)\n",
    "print(\"Shape of y:\", y.shape)\n",
    "print(\"Shape of x:\", x.shape)"
   ]
  },
  {
   "cell_type": "markdown",
   "id": "10c49280-46ba-4e34-a9d6-2a8a5cb509c1",
   "metadata": {
    "tags": []
   },
   "source": [
    "### Split the data into Training and Testing\n",
    "\n",
    "In order to test our model, we will need to divide our data into two subsets:\n",
    "- Training set: a subset used to train a model\n",
    "- Testing set: a subset used to test the trained model. The testing set serves as a proxy for new data to evaluate the generalization of the trained model.\n",
    "The size of the training set will be 80% of the total data."
   ]
  },
  {
   "cell_type": "code",
   "execution_count": 15,
   "id": "74fda5dc-d25c-4d0d-a8de-21383645c2f5",
   "metadata": {},
   "outputs": [
    {
     "name": "stdout",
     "output_type": "stream",
     "text": [
      "(3472, 2) (3472, 1)\n",
      "(868, 2) (868, 1)\n"
     ]
    }
   ],
   "source": [
    "def shuffle(x, y):\n",
    "    indices = np.random.permutation(x.shape[0])\n",
    "    return x[indices], y[indices]\n",
    "\n",
    "\n",
    "x, y = shuffle(x, y)\n",
    "\n",
    "split_pos = int(0.8 * x.shape[0])\n",
    "\n",
    "x_train, x_test = x[:split_pos], x[split_pos:]\n",
    "y_train, y_test = y[:split_pos], y[split_pos:]\n",
    "\n",
    "print(x_train.shape, y_train.shape)\n",
    "print(x_test.shape, y_test.shape)"
   ]
  },
  {
   "cell_type": "markdown",
   "id": "420a0832-980e-4f59-a07f-34020dac0cf9",
   "metadata": {},
   "source": [
    "## Linear Regression Model\n",
    "\n",
    "The following code from the previous section defines the Linear Regression class."
   ]
  },
  {
   "cell_type": "code",
   "execution_count": 16,
   "id": "ca8bd7b7-d1cf-47c5-8787-80879de9fca5",
   "metadata": {},
   "outputs": [],
   "source": [
    "def mean_absolute_error(y_true, y_pred):\n",
    "    return np.mean(np.abs(y_true - y_pred))\n",
    "\n",
    "\n",
    "def mean_squared_error(y_true, y_pred):\n",
    "    return np.mean(np.square(y_true - y_pred))\n",
    "\n",
    "\n",
    "def root_mean_squared_error(y_true, y_pred):\n",
    "    return np.sqrt(np.mean(np.square(y_true - y_pred)))\n",
    "\n",
    "\n",
    "class LinearRegression:\n",
    "    def __init__(self):\n",
    "        self.w = None\n",
    "\n",
    "    def fit(self, x, y):\n",
    "        X = self._add_bias(x)\n",
    "        self.w = np.linalg.inv(X.T.dot(X)).dot(X.T).dot(y)\n",
    "\n",
    "    def predict(self, x):\n",
    "        X = self._add_bias(x)\n",
    "        return X.dot(self.w)\n",
    "\n",
    "    def evaluate(self, x, y):\n",
    "        y_pred = self.predict(x)\n",
    "\n",
    "        mae = mean_absolute_error(y, y_pred)\n",
    "        mse = mean_squared_error(y, y_pred)\n",
    "        rmse = root_mean_squared_error(y, y_pred)\n",
    "\n",
    "        print(\"MAE:\", mae)\n",
    "        print(\"MSE:\", mse)\n",
    "        print(\"RMSE:\", rmse)\n",
    "\n",
    "    def _add_bias(self, x):\n",
    "        return np.hstack([np.ones((x.shape[0], 1)), x])\n",
    "\n",
    "\n",
    "model = LinearRegression()"
   ]
  },
  {
   "cell_type": "markdown",
   "id": "f01377d4-cc73-426c-b2b8-f9197e17f677",
   "metadata": {},
   "source": [
    "Let's fit the model on the training set and print the evaluation results."
   ]
  },
  {
   "cell_type": "code",
   "execution_count": 17,
   "id": "95f50645-68a6-4a86-8812-2efcc8367f85",
   "metadata": {},
   "outputs": [
    {
     "name": "stdout",
     "output_type": "stream",
     "text": [
      "Model parameters: [[ 9.45511318e+05]\n",
      " [-1.93677689e-01]\n",
      " [-5.47102269e+04]]\n",
      "Evaluation results:\n",
      "MAE: 290074.25873104914\n",
      "MSE: 394195300627.6546\n",
      "RMSE: 627849.7436709317\n"
     ]
    }
   ],
   "source": [
    "model.fit(x_train, y_train)\n",
    "\n",
    "print(\"Model parameters:\", model.w)\n",
    "print(\"Evaluation results:\")\n",
    "model.evaluate(x_test, y_test)"
   ]
  }
 ],
 "metadata": {
  "kernelspec": {
   "display_name": "Python 3 (ipykernel)",
   "language": "python",
   "name": "python3"
  },
  "language_info": {
   "codemirror_mode": {
    "name": "ipython",
    "version": 3
   },
   "file_extension": ".py",
   "mimetype": "text/x-python",
   "name": "python",
   "nbconvert_exporter": "python",
   "pygments_lexer": "ipython3",
   "version": "3.8.12"
  }
 },
 "nbformat": 4,
 "nbformat_minor": 5
}
